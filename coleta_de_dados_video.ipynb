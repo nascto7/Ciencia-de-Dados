{
 "cells": [
  {
   "cell_type": "code",
   "execution_count": 1,
   "metadata": {},
   "outputs": [],
   "source": [
    "import pandas as pd\n",
    "import numpy as np\n",
    "import re\n",
    "import time\n",
    "\n",
    "import requests as rq\n",
    "import bs4 as bs4\n",
    "import tqdm\n",
    "import glob\n",
    "import json"
   ]
  },
  {
   "cell_type": "markdown",
   "metadata": {},
   "source": [
    "# Coleta"
   ]
  },
  {
   "cell_type": "code",
   "execution_count": 2,
   "metadata": {},
   "outputs": [
    {
     "data": {
      "text/html": [
       "<div>\n",
       "<style scoped>\n",
       "    .dataframe tbody tr th:only-of-type {\n",
       "        vertical-align: middle;\n",
       "    }\n",
       "\n",
       "    .dataframe tbody tr th {\n",
       "        vertical-align: top;\n",
       "    }\n",
       "\n",
       "    .dataframe thead th {\n",
       "        text-align: right;\n",
       "    }\n",
       "</style>\n",
       "<table border=\"1\" class=\"dataframe\">\n",
       "  <thead>\n",
       "    <tr style=\"text-align: right;\">\n",
       "      <th></th>\n",
       "      <th>link</th>\n",
       "      <th>query</th>\n",
       "      <th>titles</th>\n",
       "    </tr>\n",
       "  </thead>\n",
       "  <tbody>\n",
       "    <tr>\n",
       "      <th>0</th>\n",
       "      <td>https://www.youtube.com/watch?v=4E0lIbH4WOU</td>\n",
       "      <td>machine-learning</td>\n",
       "      <td>Disciplina Machine Learning para Predições em ...</td>\n",
       "    </tr>\n",
       "    <tr>\n",
       "      <th>1</th>\n",
       "      <td>https://www.youtube.com/watch?v=EeMhj0sPrhE</td>\n",
       "      <td>machine-learning</td>\n",
       "      <td>Gradients are Not All You Need (Machine Learni...</td>\n",
       "    </tr>\n",
       "    <tr>\n",
       "      <th>2</th>\n",
       "      <td>https://www.youtube.com/watch?v=y6obVdOq93o</td>\n",
       "      <td>machine-learning</td>\n",
       "      <td>Análise de Dados - Concurso do TCU - Machine L...</td>\n",
       "    </tr>\n",
       "    <tr>\n",
       "      <th>3</th>\n",
       "      <td>https://www.youtube.com/watch?v=BRhz6v-jfMM</td>\n",
       "      <td>machine-learning</td>\n",
       "      <td>O que faz uma pessoa engenheira de Machine Lea...</td>\n",
       "    </tr>\n",
       "    <tr>\n",
       "      <th>4</th>\n",
       "      <td>https://www.youtube.com/watch?v=4jtV6nq_fFY</td>\n",
       "      <td>machine-learning</td>\n",
       "      <td>3D Print Failure Detection with Machine Learni...</td>\n",
       "    </tr>\n",
       "  </tbody>\n",
       "</table>\n",
       "</div>"
      ],
      "text/plain": [
       "                                          link             query  \\\n",
       "0  https://www.youtube.com/watch?v=4E0lIbH4WOU  machine-learning   \n",
       "1  https://www.youtube.com/watch?v=EeMhj0sPrhE  machine-learning   \n",
       "2  https://www.youtube.com/watch?v=y6obVdOq93o  machine-learning   \n",
       "3  https://www.youtube.com/watch?v=BRhz6v-jfMM  machine-learning   \n",
       "4  https://www.youtube.com/watch?v=4jtV6nq_fFY  machine-learning   \n",
       "\n",
       "                                              titles  \n",
       "0  Disciplina Machine Learning para Predições em ...  \n",
       "1  Gradients are Not All You Need (Machine Learni...  \n",
       "2  Análise de Dados - Concurso do TCU - Machine L...  \n",
       "3  O que faz uma pessoa engenheira de Machine Lea...  \n",
       "4  3D Print Failure Detection with Machine Learni...  "
      ]
     },
     "execution_count": 2,
     "metadata": {},
     "output_type": "execute_result"
    }
   ],
   "source": [
    "df = pd.read_json(\"parsed_videos.json\", lines=True)\n",
    "df.head()"
   ]
  },
  {
   "cell_type": "code",
   "execution_count": 31,
   "metadata": {},
   "outputs": [
    {
     "data": {
      "text/plain": [
       "count                                             192\n",
       "unique                                            103\n",
       "top       https://www.youtube.com/watch?v=W5XNOmyJr6I\n",
       "freq                                                2\n",
       "Name: link, dtype: object"
      ]
     },
     "execution_count": 31,
     "metadata": {},
     "output_type": "execute_result"
    }
   ],
   "source": [
    "lista_de_links = df['link']\n",
    "\n",
    "# for link in lista_de_links:\n",
    "#     response = rq.get(link)\n",
    "#     print(link)\n",
    "    \n",
    "#     link_name = re.search(\"v=(.*)\", link).group(1)\n",
    "#     print('\\n\\n ', link_name)\n",
    "    \n",
    "\n",
    "#     with open(\"dados_brutos/video_{}.html\".format(link_name), \"w+\") as output:\n",
    "#         output.write(response.text)\n",
    "    \n",
    "\n",
    "    \n",
    "lista_de_links.describe()"
   ]
  },
  {
   "cell_type": "markdown",
   "metadata": {},
   "source": [
    "# Processamento dos dados"
   ]
  },
  {
   "cell_type": "code",
   "execution_count": null,
   "metadata": {},
   "outputs": [],
   "source": [
    "with open(\"parsed_video_info.json\", 'w+') as output:\n",
    "    for video_file in tqdm.tqdm_notebook(sorted(glob.glob(\"./dados_brutos/video*\"))):\n",
    "        with open(video_file, 'r+') as inp:\n",
    "            page_html = inp.read()\n",
    "            parsed = bs4.BeautifulSoup(page_html, 'html.parser')\n",
    "\n",
    "            class_watch = parsed.find_all(attrs={\"class\":re.compile(r\"watch\")})\n",
    "            id_watch = parsed.find_all(attrs={\"id\":re.compile(r\"watch\")})\n",
    "            channel = parsed.find_all(\"a\", attrs={\"href\":re.compile(r\"channel\")})\n",
    "            meta = parsed.find_all(\"meta\")\n",
    "\n",
    "\n",
    "            data = dict()\n",
    "\n",
    "            for e in class_watch:\n",
    "                colname = \"_\".join(e['class'])\n",
    "                if \"clearfix\" in colname:\n",
    "                    continue\n",
    "                data[colname] = e.text.strip()\n",
    "\n",
    "            for e in id_watch:\n",
    "                colname = e['id']\n",
    "                #if colname in output:\n",
    "                #    print(colname)\n",
    "                data[colname] = e.text.strip()\n",
    "\n",
    "            for e in meta:\n",
    "                colname = e.get('property')\n",
    "                if colname is not None:\n",
    "                    data[colname] = e['content']\n",
    "\n",
    "            for link_num, e in enumerate(channel):\n",
    "                data[\"channel_link_{}\".format(link_num)] = e['href']\n",
    "\n",
    "\n",
    "            output.write(\"{}\\n\".format(json.dumps(data)))\n"
   ]
  },
  {
   "cell_type": "markdown",
   "metadata": {},
   "source": [
    "# Verificação"
   ]
  },
  {
   "cell_type": "code",
   "execution_count": null,
   "metadata": {},
   "outputs": [],
   "source": [
    "df = pd.read_json(\"parsed_video_info.json\", lines=True)\n",
    "df.shape"
   ]
  },
  {
   "cell_type": "code",
   "execution_count": null,
   "metadata": {},
   "outputs": [],
   "source": [
    "pd.set_option(\"display.max_columns\", 166)\n",
    "df.head(1)"
   ]
  },
  {
   "cell_type": "code",
   "execution_count": null,
   "metadata": {},
   "outputs": [],
   "source": [
    "colunas_selecionadas = ['watch-title', 'watch-view-count', 'watch-time-text', 'content_watch-info-tag-list', 'watch7-headline',\n",
    "                    'watch7-user-header', 'watch8-sentiment-actions', \"og:image\", 'og:image:width', 'og:image:height',\n",
    "                    \"og:description\", \"og:video:width\", 'og:video:height', \"og:video:tag\", 'channel_link_0']"
   ]
  },
  {
   "cell_type": "code",
   "execution_count": null,
   "metadata": {},
   "outputs": [],
   "source": [
    "df[colunas_selecionadas].head()"
   ]
  },
  {
   "cell_type": "code",
   "execution_count": null,
   "metadata": {},
   "outputs": [],
   "source": [
    "df[colunas_selecionadas].to_feather(\"raw_data.feather\")"
   ]
  },
  {
   "cell_type": "code",
   "execution_count": null,
   "metadata": {},
   "outputs": [],
   "source": [
    "df[colunas_selecionadas].to_csv(\"raw_data_sem_labels.csv\")"
   ]
  },
  {
   "cell_type": "code",
   "execution_count": null,
   "metadata": {},
   "outputs": [],
   "source": []
  }
 ],
 "metadata": {
  "kernelspec": {
   "display_name": "Python 3",
   "language": "python",
   "name": "python3"
  },
  "language_info": {
   "codemirror_mode": {
    "name": "ipython",
    "version": 3
   },
   "file_extension": ".py",
   "mimetype": "text/x-python",
   "name": "python",
   "nbconvert_exporter": "python",
   "pygments_lexer": "ipython3",
   "version": "3.7.3"
  }
 },
 "nbformat": 4,
 "nbformat_minor": 4
}
